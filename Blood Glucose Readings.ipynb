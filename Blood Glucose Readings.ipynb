{
 "cells": [
  {
   "cell_type": "markdown",
   "metadata": {},
   "source": [
    "# **Blood Glucose Monitor (BGM) Readings**"
   ]
  },
  {
   "cell_type": "markdown",
   "metadata": {},
   "source": [
    "This program automates the manual process of converting an Excel sheet of blood glucose readings formatted for easy data entry into a CSV file formatted for data visualization in Tableau."
   ]
  },
  {
   "cell_type": "markdown",
   "metadata": {},
   "source": [
    "Run on Python 3.13 | No errors | No warnings"
   ]
  },
  {
   "cell_type": "code",
   "execution_count": 1,
   "metadata": {},
   "outputs": [],
   "source": [
    "# Import packages\n",
    "\n",
    "# For data manipulation\n",
    "import numpy as np\n",
    "import pandas as pd\n",
    "\n",
    "# For handling warnings and exceptions\n",
    "import warnings\n",
    "\n",
    "# for displaying and modifying the working directory\n",
    "import os as os\n",
    "\n",
    "# For working with datetime objects\n",
    "from datetime import datetime"
   ]
  },
  {
   "cell_type": "code",
   "execution_count": 2,
   "metadata": {},
   "outputs": [],
   "source": [
    "# Set the file options\n",
    "\n",
    "# Suppress the warning about conditional formatting\n",
    "warnings.filterwarnings(\"ignore\", category=UserWarning, module='openpyxl')"
   ]
  },
  {
   "cell_type": "code",
   "execution_count": 3,
   "metadata": {},
   "outputs": [],
   "source": [
    "# Load AM readings into dataframe df0, load Value AM as integer\n",
    "df0 = pd.read_excel(\"Blood Glucose Readings.xlsx\", sheet_name=\"Readings\", usecols=['Date', 'Time AM', 'Value AM'])"
   ]
  },
  {
   "cell_type": "code",
   "execution_count": 4,
   "metadata": {},
   "outputs": [
    {
     "data": {
      "text/html": [
       "<div>\n",
       "<style scoped>\n",
       "    .dataframe tbody tr th:only-of-type {\n",
       "        vertical-align: middle;\n",
       "    }\n",
       "\n",
       "    .dataframe tbody tr th {\n",
       "        vertical-align: top;\n",
       "    }\n",
       "\n",
       "    .dataframe thead th {\n",
       "        text-align: right;\n",
       "    }\n",
       "</style>\n",
       "<table border=\"1\" class=\"dataframe\">\n",
       "  <thead>\n",
       "    <tr style=\"text-align: right;\">\n",
       "      <th></th>\n",
       "      <th>Date</th>\n",
       "      <th>Time AM</th>\n",
       "      <th>Value AM</th>\n",
       "    </tr>\n",
       "  </thead>\n",
       "  <tbody>\n",
       "    <tr>\n",
       "      <th>0</th>\n",
       "      <td>2023-01-24</td>\n",
       "      <td>06:35:00</td>\n",
       "      <td>278.0</td>\n",
       "    </tr>\n",
       "    <tr>\n",
       "      <th>1</th>\n",
       "      <td>2023-01-25</td>\n",
       "      <td>06:15:00</td>\n",
       "      <td>266.0</td>\n",
       "    </tr>\n",
       "    <tr>\n",
       "      <th>2</th>\n",
       "      <td>2023-01-26</td>\n",
       "      <td>06:29:00</td>\n",
       "      <td>237.0</td>\n",
       "    </tr>\n",
       "    <tr>\n",
       "      <th>3</th>\n",
       "      <td>2023-01-27</td>\n",
       "      <td>06:22:00</td>\n",
       "      <td>302.0</td>\n",
       "    </tr>\n",
       "    <tr>\n",
       "      <th>4</th>\n",
       "      <td>2023-01-28</td>\n",
       "      <td>07:30:00</td>\n",
       "      <td>256.0</td>\n",
       "    </tr>\n",
       "  </tbody>\n",
       "</table>\n",
       "</div>"
      ],
      "text/plain": [
       "        Date   Time AM  Value AM\n",
       "0 2023-01-24  06:35:00     278.0\n",
       "1 2023-01-25  06:15:00     266.0\n",
       "2 2023-01-26  06:29:00     237.0\n",
       "3 2023-01-27  06:22:00     302.0\n",
       "4 2023-01-28  07:30:00     256.0"
      ]
     },
     "execution_count": 4,
     "metadata": {},
     "output_type": "execute_result"
    }
   ],
   "source": [
    "# Display the first 5 rows of the dataframe (df0)\n",
    "df0.head()"
   ]
  },
  {
   "cell_type": "code",
   "execution_count": 5,
   "metadata": {},
   "outputs": [
    {
     "name": "stdout",
     "output_type": "stream",
     "text": [
      "<class 'pandas.core.frame.DataFrame'>\n",
      "RangeIndex: 685 entries, 0 to 684\n",
      "Data columns (total 3 columns):\n",
      " #   Column    Non-Null Count  Dtype         \n",
      "---  ------    --------------  -----         \n",
      " 0   Date      685 non-null    datetime64[ns]\n",
      " 1   Time AM   684 non-null    object        \n",
      " 2   Value AM  684 non-null    float64       \n",
      "dtypes: datetime64[ns](1), float64(1), object(1)\n",
      "memory usage: 16.2+ KB\n"
     ]
    }
   ],
   "source": [
    "# Display basic information about the data \n",
    "df0.info()"
   ]
  },
  {
   "cell_type": "code",
   "execution_count": 6,
   "metadata": {},
   "outputs": [],
   "source": [
    "# Combine the Date and Time AM columns into a single column titled DateTime\n",
    "df0['DateTime'] = df0['Date'].astype(str) + ' ' + df0['Time AM'].astype(str)"
   ]
  },
  {
   "cell_type": "code",
   "execution_count": 7,
   "metadata": {},
   "outputs": [],
   "source": [
    "# Rename columns\n",
    "df0.rename(columns={'Time AM': 'Time', 'Value AM': 'Value'}, inplace=True)"
   ]
  },
  {
   "cell_type": "code",
   "execution_count": 8,
   "metadata": {},
   "outputs": [
    {
     "data": {
      "text/html": [
       "<div>\n",
       "<style scoped>\n",
       "    .dataframe tbody tr th:only-of-type {\n",
       "        vertical-align: middle;\n",
       "    }\n",
       "\n",
       "    .dataframe tbody tr th {\n",
       "        vertical-align: top;\n",
       "    }\n",
       "\n",
       "    .dataframe thead th {\n",
       "        text-align: right;\n",
       "    }\n",
       "</style>\n",
       "<table border=\"1\" class=\"dataframe\">\n",
       "  <thead>\n",
       "    <tr style=\"text-align: right;\">\n",
       "      <th></th>\n",
       "      <th>Date</th>\n",
       "      <th>Time</th>\n",
       "      <th>Value</th>\n",
       "      <th>DateTime</th>\n",
       "    </tr>\n",
       "  </thead>\n",
       "  <tbody>\n",
       "    <tr>\n",
       "      <th>0</th>\n",
       "      <td>2023-01-24</td>\n",
       "      <td>06:35:00</td>\n",
       "      <td>278.0</td>\n",
       "      <td>2023-01-24 06:35:00</td>\n",
       "    </tr>\n",
       "    <tr>\n",
       "      <th>1</th>\n",
       "      <td>2023-01-25</td>\n",
       "      <td>06:15:00</td>\n",
       "      <td>266.0</td>\n",
       "      <td>2023-01-25 06:15:00</td>\n",
       "    </tr>\n",
       "    <tr>\n",
       "      <th>2</th>\n",
       "      <td>2023-01-26</td>\n",
       "      <td>06:29:00</td>\n",
       "      <td>237.0</td>\n",
       "      <td>2023-01-26 06:29:00</td>\n",
       "    </tr>\n",
       "    <tr>\n",
       "      <th>3</th>\n",
       "      <td>2023-01-27</td>\n",
       "      <td>06:22:00</td>\n",
       "      <td>302.0</td>\n",
       "      <td>2023-01-27 06:22:00</td>\n",
       "    </tr>\n",
       "    <tr>\n",
       "      <th>4</th>\n",
       "      <td>2023-01-28</td>\n",
       "      <td>07:30:00</td>\n",
       "      <td>256.0</td>\n",
       "      <td>2023-01-28 07:30:00</td>\n",
       "    </tr>\n",
       "  </tbody>\n",
       "</table>\n",
       "</div>"
      ],
      "text/plain": [
       "        Date      Time  Value             DateTime\n",
       "0 2023-01-24  06:35:00  278.0  2023-01-24 06:35:00\n",
       "1 2023-01-25  06:15:00  266.0  2023-01-25 06:15:00\n",
       "2 2023-01-26  06:29:00  237.0  2023-01-26 06:29:00\n",
       "3 2023-01-27  06:22:00  302.0  2023-01-27 06:22:00\n",
       "4 2023-01-28  07:30:00  256.0  2023-01-28 07:30:00"
      ]
     },
     "execution_count": 8,
     "metadata": {},
     "output_type": "execute_result"
    }
   ],
   "source": [
    "# Verify the changes\n",
    "df0.head()"
   ]
  },
  {
   "cell_type": "code",
   "execution_count": 9,
   "metadata": {},
   "outputs": [],
   "source": [
    "# Load PM readings into dataframe df1, load Value PM as integer\n",
    "df1 = pd.read_excel(\"Blood Glucose Readings.xlsx\", sheet_name=\"Readings\", usecols=['Date', 'Time PM', 'Value PM'])"
   ]
  },
  {
   "cell_type": "code",
   "execution_count": 10,
   "metadata": {},
   "outputs": [
    {
     "data": {
      "text/html": [
       "<div>\n",
       "<style scoped>\n",
       "    .dataframe tbody tr th:only-of-type {\n",
       "        vertical-align: middle;\n",
       "    }\n",
       "\n",
       "    .dataframe tbody tr th {\n",
       "        vertical-align: top;\n",
       "    }\n",
       "\n",
       "    .dataframe thead th {\n",
       "        text-align: right;\n",
       "    }\n",
       "</style>\n",
       "<table border=\"1\" class=\"dataframe\">\n",
       "  <thead>\n",
       "    <tr style=\"text-align: right;\">\n",
       "      <th></th>\n",
       "      <th>Date</th>\n",
       "      <th>Time PM</th>\n",
       "      <th>Value PM</th>\n",
       "    </tr>\n",
       "  </thead>\n",
       "  <tbody>\n",
       "    <tr>\n",
       "      <th>0</th>\n",
       "      <td>2023-01-24</td>\n",
       "      <td>20:35:00</td>\n",
       "      <td>412.0</td>\n",
       "    </tr>\n",
       "    <tr>\n",
       "      <th>1</th>\n",
       "      <td>2023-01-25</td>\n",
       "      <td>20:35:00</td>\n",
       "      <td>359.0</td>\n",
       "    </tr>\n",
       "    <tr>\n",
       "      <th>2</th>\n",
       "      <td>2023-01-26</td>\n",
       "      <td>21:31:00</td>\n",
       "      <td>305.0</td>\n",
       "    </tr>\n",
       "    <tr>\n",
       "      <th>3</th>\n",
       "      <td>2023-01-27</td>\n",
       "      <td>20:24:00</td>\n",
       "      <td>257.0</td>\n",
       "    </tr>\n",
       "    <tr>\n",
       "      <th>4</th>\n",
       "      <td>2023-01-28</td>\n",
       "      <td>20:35:00</td>\n",
       "      <td>379.0</td>\n",
       "    </tr>\n",
       "  </tbody>\n",
       "</table>\n",
       "</div>"
      ],
      "text/plain": [
       "        Date   Time PM  Value PM\n",
       "0 2023-01-24  20:35:00     412.0\n",
       "1 2023-01-25  20:35:00     359.0\n",
       "2 2023-01-26  21:31:00     305.0\n",
       "3 2023-01-27  20:24:00     257.0\n",
       "4 2023-01-28  20:35:00     379.0"
      ]
     },
     "execution_count": 10,
     "metadata": {},
     "output_type": "execute_result"
    }
   ],
   "source": [
    "# Display the first 5 rows of the dataframe (df1)\n",
    "df1.head()"
   ]
  },
  {
   "cell_type": "code",
   "execution_count": 11,
   "metadata": {},
   "outputs": [
    {
     "name": "stdout",
     "output_type": "stream",
     "text": [
      "<class 'pandas.core.frame.DataFrame'>\n",
      "RangeIndex: 685 entries, 0 to 684\n",
      "Data columns (total 3 columns):\n",
      " #   Column    Non-Null Count  Dtype         \n",
      "---  ------    --------------  -----         \n",
      " 0   Date      685 non-null    datetime64[ns]\n",
      " 1   Time PM   684 non-null    object        \n",
      " 2   Value PM  684 non-null    float64       \n",
      "dtypes: datetime64[ns](1), float64(1), object(1)\n",
      "memory usage: 16.2+ KB\n"
     ]
    }
   ],
   "source": [
    "# Display basic information about the data \n",
    "df1.info()"
   ]
  },
  {
   "cell_type": "code",
   "execution_count": 12,
   "metadata": {},
   "outputs": [],
   "source": [
    "# Combine the Date and Time PM columns into a single column titled DateTime\n",
    "df1['DateTime'] = df1['Date'].astype(str) + ' ' + df1['Time PM'].astype(str)"
   ]
  },
  {
   "cell_type": "code",
   "execution_count": 13,
   "metadata": {},
   "outputs": [],
   "source": [
    "# Rename columns\n",
    "df1.rename(columns={'Time PM': 'Time', 'Value PM': 'Value'}, inplace=True)"
   ]
  },
  {
   "cell_type": "code",
   "execution_count": 14,
   "metadata": {},
   "outputs": [
    {
     "data": {
      "text/html": [
       "<div>\n",
       "<style scoped>\n",
       "    .dataframe tbody tr th:only-of-type {\n",
       "        vertical-align: middle;\n",
       "    }\n",
       "\n",
       "    .dataframe tbody tr th {\n",
       "        vertical-align: top;\n",
       "    }\n",
       "\n",
       "    .dataframe thead th {\n",
       "        text-align: right;\n",
       "    }\n",
       "</style>\n",
       "<table border=\"1\" class=\"dataframe\">\n",
       "  <thead>\n",
       "    <tr style=\"text-align: right;\">\n",
       "      <th></th>\n",
       "      <th>Date</th>\n",
       "      <th>Time</th>\n",
       "      <th>Value</th>\n",
       "      <th>DateTime</th>\n",
       "    </tr>\n",
       "  </thead>\n",
       "  <tbody>\n",
       "    <tr>\n",
       "      <th>0</th>\n",
       "      <td>2023-01-24</td>\n",
       "      <td>20:35:00</td>\n",
       "      <td>412.0</td>\n",
       "      <td>2023-01-24 20:35:00</td>\n",
       "    </tr>\n",
       "    <tr>\n",
       "      <th>1</th>\n",
       "      <td>2023-01-25</td>\n",
       "      <td>20:35:00</td>\n",
       "      <td>359.0</td>\n",
       "      <td>2023-01-25 20:35:00</td>\n",
       "    </tr>\n",
       "    <tr>\n",
       "      <th>2</th>\n",
       "      <td>2023-01-26</td>\n",
       "      <td>21:31:00</td>\n",
       "      <td>305.0</td>\n",
       "      <td>2023-01-26 21:31:00</td>\n",
       "    </tr>\n",
       "    <tr>\n",
       "      <th>3</th>\n",
       "      <td>2023-01-27</td>\n",
       "      <td>20:24:00</td>\n",
       "      <td>257.0</td>\n",
       "      <td>2023-01-27 20:24:00</td>\n",
       "    </tr>\n",
       "    <tr>\n",
       "      <th>4</th>\n",
       "      <td>2023-01-28</td>\n",
       "      <td>20:35:00</td>\n",
       "      <td>379.0</td>\n",
       "      <td>2023-01-28 20:35:00</td>\n",
       "    </tr>\n",
       "  </tbody>\n",
       "</table>\n",
       "</div>"
      ],
      "text/plain": [
       "        Date      Time  Value             DateTime\n",
       "0 2023-01-24  20:35:00  412.0  2023-01-24 20:35:00\n",
       "1 2023-01-25  20:35:00  359.0  2023-01-25 20:35:00\n",
       "2 2023-01-26  21:31:00  305.0  2023-01-26 21:31:00\n",
       "3 2023-01-27  20:24:00  257.0  2023-01-27 20:24:00\n",
       "4 2023-01-28  20:35:00  379.0  2023-01-28 20:35:00"
      ]
     },
     "execution_count": 14,
     "metadata": {},
     "output_type": "execute_result"
    }
   ],
   "source": [
    "# Verify the changes\n",
    "df1.head()"
   ]
  },
  {
   "cell_type": "code",
   "execution_count": 15,
   "metadata": {},
   "outputs": [],
   "source": [
    "# Combine dataframes df0 and df1\n",
    "df2 = pd.concat([df0, df1], ignore_index=True)"
   ]
  },
  {
   "cell_type": "code",
   "execution_count": 16,
   "metadata": {},
   "outputs": [
    {
     "name": "stdout",
     "output_type": "stream",
     "text": [
      "<class 'pandas.core.frame.DataFrame'>\n",
      "RangeIndex: 1370 entries, 0 to 1369\n",
      "Data columns (total 4 columns):\n",
      " #   Column    Non-Null Count  Dtype         \n",
      "---  ------    --------------  -----         \n",
      " 0   Date      1370 non-null   datetime64[ns]\n",
      " 1   Time      1368 non-null   object        \n",
      " 2   Value     1368 non-null   float64       \n",
      " 3   DateTime  1370 non-null   object        \n",
      "dtypes: datetime64[ns](1), float64(1), object(2)\n",
      "memory usage: 42.9+ KB\n"
     ]
    }
   ],
   "source": [
    "# Display basic information about the data \n",
    "df2.info()"
   ]
  },
  {
   "cell_type": "code",
   "execution_count": 17,
   "metadata": {},
   "outputs": [],
   "source": [
    "# Create a column for Treatment\n",
    "df2['Date'] = pd.to_datetime(df2['Date'])\n",
    "\n",
    "conditions = [\n",
    "    (df2['Date'] > '2024-06-18'),\n",
    "    (df2['Date'] > '2024-01-30'),\n",
    "    (df2['Date'] > '2023-07-18'),\n",
    "    (df2['Date'] > '2023-02-28'),\n",
    "    (df2['Date'] > '2023-01-31')\n",
    "]\n",
    "\n",
    "choices = [\n",
    "    'Mounjaro 12.5',\n",
    "    'Mounjaro 10',\n",
    "    'Mounjaro 7.5',\n",
    "    'Mounjaro 5',\n",
    "    'Mounjaro 2.5'\n",
    "]\n",
    "\n",
    "df2['Treatment'] = np.select(conditions, choices, default='Untreated')\n"
   ]
  },
  {
   "cell_type": "code",
   "execution_count": 18,
   "metadata": {},
   "outputs": [
    {
     "data": {
      "text/html": [
       "<div>\n",
       "<style scoped>\n",
       "    .dataframe tbody tr th:only-of-type {\n",
       "        vertical-align: middle;\n",
       "    }\n",
       "\n",
       "    .dataframe tbody tr th {\n",
       "        vertical-align: top;\n",
       "    }\n",
       "\n",
       "    .dataframe thead th {\n",
       "        text-align: right;\n",
       "    }\n",
       "</style>\n",
       "<table border=\"1\" class=\"dataframe\">\n",
       "  <thead>\n",
       "    <tr style=\"text-align: right;\">\n",
       "      <th></th>\n",
       "      <th>Date</th>\n",
       "      <th>Time</th>\n",
       "      <th>Value</th>\n",
       "      <th>DateTime</th>\n",
       "      <th>Treatment</th>\n",
       "    </tr>\n",
       "  </thead>\n",
       "  <tbody>\n",
       "    <tr>\n",
       "      <th>0</th>\n",
       "      <td>2023-01-24</td>\n",
       "      <td>06:35:00</td>\n",
       "      <td>278.0</td>\n",
       "      <td>2023-01-24 06:35:00</td>\n",
       "      <td>Untreated</td>\n",
       "    </tr>\n",
       "    <tr>\n",
       "      <th>1</th>\n",
       "      <td>2023-01-25</td>\n",
       "      <td>06:15:00</td>\n",
       "      <td>266.0</td>\n",
       "      <td>2023-01-25 06:15:00</td>\n",
       "      <td>Untreated</td>\n",
       "    </tr>\n",
       "    <tr>\n",
       "      <th>2</th>\n",
       "      <td>2023-01-26</td>\n",
       "      <td>06:29:00</td>\n",
       "      <td>237.0</td>\n",
       "      <td>2023-01-26 06:29:00</td>\n",
       "      <td>Untreated</td>\n",
       "    </tr>\n",
       "    <tr>\n",
       "      <th>3</th>\n",
       "      <td>2023-01-27</td>\n",
       "      <td>06:22:00</td>\n",
       "      <td>302.0</td>\n",
       "      <td>2023-01-27 06:22:00</td>\n",
       "      <td>Untreated</td>\n",
       "    </tr>\n",
       "    <tr>\n",
       "      <th>4</th>\n",
       "      <td>2023-01-28</td>\n",
       "      <td>07:30:00</td>\n",
       "      <td>256.0</td>\n",
       "      <td>2023-01-28 07:30:00</td>\n",
       "      <td>Untreated</td>\n",
       "    </tr>\n",
       "  </tbody>\n",
       "</table>\n",
       "</div>"
      ],
      "text/plain": [
       "        Date      Time  Value             DateTime  Treatment\n",
       "0 2023-01-24  06:35:00  278.0  2023-01-24 06:35:00  Untreated\n",
       "1 2023-01-25  06:15:00  266.0  2023-01-25 06:15:00  Untreated\n",
       "2 2023-01-26  06:29:00  237.0  2023-01-26 06:29:00  Untreated\n",
       "3 2023-01-27  06:22:00  302.0  2023-01-27 06:22:00  Untreated\n",
       "4 2023-01-28  07:30:00  256.0  2023-01-28 07:30:00  Untreated"
      ]
     },
     "execution_count": 18,
     "metadata": {},
     "output_type": "execute_result"
    }
   ],
   "source": [
    "# Verify the changes\n",
    "df2.head()"
   ]
  },
  {
   "cell_type": "code",
   "execution_count": 19,
   "metadata": {},
   "outputs": [],
   "source": [
    "# Rorder the columns\n",
    "df2 = df2[['Date', 'Time', 'DateTime', 'Value', 'Treatment']]"
   ]
  },
  {
   "cell_type": "code",
   "execution_count": 20,
   "metadata": {},
   "outputs": [],
   "source": [
    "# Sort the data by Date and Time\n",
    "df2 = df2.sort_values(by=['Date', 'Time'])"
   ]
  },
  {
   "cell_type": "code",
   "execution_count": null,
   "metadata": {},
   "outputs": [],
   "source": [
    "# Drop rows with missing values\n",
    "df2 = df2.dropna() # When the sheet is prepped for the next day, the last row has missing values that we don't need to include in the analysis"
   ]
  },
  {
   "cell_type": "code",
   "execution_count": 22,
   "metadata": {},
   "outputs": [],
   "source": [
    "# Convert Time to datetime format\n",
    "df2['Time'] = pd.to_datetime(df2['Time'], format='%H:%M:%S').dt.time"
   ]
  },
  {
   "cell_type": "code",
   "execution_count": 23,
   "metadata": {},
   "outputs": [],
   "source": [
    "# Convert Time to AM/PM format\n",
    "df2['Time'] = df2['Time'].apply(lambda x: x.strftime('%I:%M %p') if pd.notnull(x) else '')"
   ]
  },
  {
   "cell_type": "code",
   "execution_count": 24,
   "metadata": {},
   "outputs": [],
   "source": [
    "# Value should have no decimal places\n",
    "df2['Value'] = df2['Value'].astype(int)"
   ]
  },
  {
   "cell_type": "code",
   "execution_count": 25,
   "metadata": {},
   "outputs": [],
   "source": [
    "# Add a column for Source\n",
    "df2['Source'] = 'BGM'"
   ]
  },
  {
   "cell_type": "code",
   "execution_count": 26,
   "metadata": {},
   "outputs": [],
   "source": [
    "# Make Sure Date is only the date, not date and time\n",
    "df2['Date'] = df2['Date'].dt.date"
   ]
  },
  {
   "cell_type": "code",
   "execution_count": 27,
   "metadata": {},
   "outputs": [],
   "source": [
    "# Reindex the dataframe\n",
    "df2.reset_index(drop=True, inplace=True)"
   ]
  },
  {
   "cell_type": "code",
   "execution_count": 28,
   "metadata": {},
   "outputs": [
    {
     "data": {
      "text/html": [
       "<div>\n",
       "<style scoped>\n",
       "    .dataframe tbody tr th:only-of-type {\n",
       "        vertical-align: middle;\n",
       "    }\n",
       "\n",
       "    .dataframe tbody tr th {\n",
       "        vertical-align: top;\n",
       "    }\n",
       "\n",
       "    .dataframe thead th {\n",
       "        text-align: right;\n",
       "    }\n",
       "</style>\n",
       "<table border=\"1\" class=\"dataframe\">\n",
       "  <thead>\n",
       "    <tr style=\"text-align: right;\">\n",
       "      <th></th>\n",
       "      <th>Date</th>\n",
       "      <th>Time</th>\n",
       "      <th>DateTime</th>\n",
       "      <th>Value</th>\n",
       "      <th>Treatment</th>\n",
       "      <th>Source</th>\n",
       "    </tr>\n",
       "  </thead>\n",
       "  <tbody>\n",
       "    <tr>\n",
       "      <th>0</th>\n",
       "      <td>2023-01-24</td>\n",
       "      <td>06:35 AM</td>\n",
       "      <td>2023-01-24 06:35:00</td>\n",
       "      <td>278</td>\n",
       "      <td>Untreated</td>\n",
       "      <td>BGM</td>\n",
       "    </tr>\n",
       "    <tr>\n",
       "      <th>1</th>\n",
       "      <td>2023-01-24</td>\n",
       "      <td>08:35 PM</td>\n",
       "      <td>2023-01-24 20:35:00</td>\n",
       "      <td>412</td>\n",
       "      <td>Untreated</td>\n",
       "      <td>BGM</td>\n",
       "    </tr>\n",
       "    <tr>\n",
       "      <th>2</th>\n",
       "      <td>2023-01-25</td>\n",
       "      <td>06:15 AM</td>\n",
       "      <td>2023-01-25 06:15:00</td>\n",
       "      <td>266</td>\n",
       "      <td>Untreated</td>\n",
       "      <td>BGM</td>\n",
       "    </tr>\n",
       "    <tr>\n",
       "      <th>3</th>\n",
       "      <td>2023-01-25</td>\n",
       "      <td>08:35 PM</td>\n",
       "      <td>2023-01-25 20:35:00</td>\n",
       "      <td>359</td>\n",
       "      <td>Untreated</td>\n",
       "      <td>BGM</td>\n",
       "    </tr>\n",
       "    <tr>\n",
       "      <th>4</th>\n",
       "      <td>2023-01-26</td>\n",
       "      <td>06:29 AM</td>\n",
       "      <td>2023-01-26 06:29:00</td>\n",
       "      <td>237</td>\n",
       "      <td>Untreated</td>\n",
       "      <td>BGM</td>\n",
       "    </tr>\n",
       "  </tbody>\n",
       "</table>\n",
       "</div>"
      ],
      "text/plain": [
       "         Date      Time             DateTime  Value  Treatment Source\n",
       "0  2023-01-24  06:35 AM  2023-01-24 06:35:00    278  Untreated    BGM\n",
       "1  2023-01-24  08:35 PM  2023-01-24 20:35:00    412  Untreated    BGM\n",
       "2  2023-01-25  06:15 AM  2023-01-25 06:15:00    266  Untreated    BGM\n",
       "3  2023-01-25  08:35 PM  2023-01-25 20:35:00    359  Untreated    BGM\n",
       "4  2023-01-26  06:29 AM  2023-01-26 06:29:00    237  Untreated    BGM"
      ]
     },
     "execution_count": 28,
     "metadata": {},
     "output_type": "execute_result"
    }
   ],
   "source": [
    "# Verify the changes\n",
    "df2.head()"
   ]
  },
  {
   "cell_type": "code",
   "execution_count": 29,
   "metadata": {},
   "outputs": [
    {
     "name": "stdout",
     "output_type": "stream",
     "text": [
      "<class 'pandas.core.frame.DataFrame'>\n",
      "RangeIndex: 1368 entries, 0 to 1367\n",
      "Data columns (total 6 columns):\n",
      " #   Column     Non-Null Count  Dtype \n",
      "---  ------     --------------  ----- \n",
      " 0   Date       1368 non-null   object\n",
      " 1   Time       1368 non-null   object\n",
      " 2   DateTime   1368 non-null   object\n",
      " 3   Value      1368 non-null   int64 \n",
      " 4   Treatment  1368 non-null   object\n",
      " 5   Source     1368 non-null   object\n",
      "dtypes: int64(1), object(5)\n",
      "memory usage: 64.3+ KB\n"
     ]
    }
   ],
   "source": [
    "# Display basic information about the data\n",
    "df2.info()"
   ]
  },
  {
   "cell_type": "code",
   "execution_count": 30,
   "metadata": {},
   "outputs": [],
   "source": [
    "# Save the dataframe to a csv file\n",
    "df2.to_csv('Blood Glucose readings for Analysis.csv', index=False)"
   ]
  }
 ],
 "metadata": {
  "kernelspec": {
   "display_name": "Python 3",
   "language": "python",
   "name": "python3"
  },
  "language_info": {
   "codemirror_mode": {
    "name": "ipython",
    "version": 3
   },
   "file_extension": ".py",
   "mimetype": "text/x-python",
   "name": "python",
   "nbconvert_exporter": "python",
   "pygments_lexer": "ipython3",
   "version": "3.13.1"
  }
 },
 "nbformat": 4,
 "nbformat_minor": 2
}
